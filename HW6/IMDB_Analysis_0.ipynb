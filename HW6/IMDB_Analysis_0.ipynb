{
 "cells": [
  {
   "cell_type": "markdown",
   "source": [
    "# IMDb Analysis"
   ],
   "metadata": {}
  },
  {
   "cell_type": "markdown",
   "source": [
    "#### In this assignment, you will work on movie data from IMDB.\n",
    "- The data includes movies and ratings from the IMDB website\n",
    "- Data File(s): imdb.xlsx\n",
    "\n",
    "#### Data file contains 3 sheets:\n",
    "- “imdb”: contains records of movies and ratings scraped from IMDB website\n",
    "- “countries”: contains the country (of origin) names\n",
    "- “directors”: contains the director names"
   ],
   "metadata": {}
  },
  {
   "cell_type": "markdown",
   "source": [
    "# Load, Inspect, & Query Movie & Ratings Data"
   ],
   "metadata": {}
  },
  {
   "cell_type": "code",
   "execution_count": 1,
   "source": [
    "\"\"\" Q1: \n",
    "Load and read the 'imdb.xlsx' file. Read the 'imdb' sheet into a DataFrame, df.\n",
    "\"\"\"\n",
    "\n",
    "import pandas as pd\n",
    "\n",
    "# your code here\n",
    "df = pd.read_excel('imdb.xlsx')\n"
   ],
   "outputs": [],
   "metadata": {}
  },
  {
   "cell_type": "code",
   "execution_count": 2,
   "source": [
    "\"\"\" Q2: \n",
    "Store the dimensions of the DataFrame as a tuple in a variable called 'shape' and print it.\n",
    "\n",
    "Hint: A tuple is made up of comma separated values inside parenthesis.  e.g. (1, 2)\n",
    "\"\"\"\n",
    "\n",
    "# your code here\n",
    "shape = df.shape\n",
    "print(shape)\n"
   ],
   "outputs": [
    {
     "output_type": "stream",
     "name": "stdout",
     "text": [
      "(178, 8)\n"
     ]
    }
   ],
   "metadata": {}
  },
  {
   "cell_type": "code",
   "execution_count": 3,
   "source": [
    "\"\"\" Q3: \n",
    "Store the column titles and the types of data in variables named 'columns' and 'dtypes', then print them.\n",
    "\"\"\"\n",
    "\n",
    "# your code here\n",
    "columns = df.columns\n",
    "dtypes = df.dtypes\n",
    "print(columns)\n",
    "print(dtypes)\n"
   ],
   "outputs": [
    {
     "output_type": "stream",
     "name": "stdout",
     "text": [
      "Index(['movie_title', 'director_id', 'country_id', 'content_rating',\n",
      "       'title_year', 'imdb_score', 'gross', 'duration'],\n",
      "      dtype='object')\n",
      "movie_title        object\n",
      "director_id       float64\n",
      "country_id        float64\n",
      "content_rating     object\n",
      "title_year        float64\n",
      "imdb_score        float64\n",
      "gross             float64\n",
      "duration          float64\n",
      "dtype: object\n"
     ]
    }
   ],
   "metadata": {}
  },
  {
   "cell_type": "code",
   "execution_count": 4,
   "source": [
    "\"\"\" Q4: \n",
    "Extract the first 10 rows of data; store them in a variable called first10\n",
    "\"\"\"\n",
    "\n",
    "# your code here\n",
    "first10 = df.head(10)\n"
   ],
   "outputs": [],
   "metadata": {}
  },
  {
   "cell_type": "code",
   "execution_count": 5,
   "source": [
    "\"\"\" Q5: \n",
    "Extract the first 5 rows of data; store them in a variable called first5\n",
    "\"\"\"\n",
    "\n",
    "# your code here\n",
    "first5 = df.head(5)\n"
   ],
   "outputs": [],
   "metadata": {}
  },
  {
   "cell_type": "code",
   "execution_count": 6,
   "source": [
    "\"\"\" Q6: \n",
    "Import the \"directors\" and \"countries\" sheets into their own DataFrames, df_directors and df_countries.\n",
    "\"\"\"\n",
    "\n",
    "# your code here\n",
    "df_directors = pd.read_excel('imdb.xlsx', sheet_name=2)\n",
    "df_countries = pd.read_excel('imdb.xlsx', sheet_name=1)\n"
   ],
   "outputs": [],
   "metadata": {}
  },
  {
   "cell_type": "code",
   "execution_count": 7,
   "source": [
    "\"\"\" Q7: \n",
    "Check the \"directors\" sheet\n",
    "1. Count how many records there are based on the \"id\" column. \n",
    "\n",
    "   To get the number of records per \"id\", use the value_counts method.\n",
    "   https://pandas.pydata.org/docs/reference/api/pandas.DataFrame.value_counts.html\n",
    "   Store the result in a variable named count.\n",
    "   \n",
    "2. Remove the duplicates from the directors dataframe and store the result in a variable called df_directors_clean.\n",
    "\"\"\"\n",
    "\n",
    "# your code here\n",
    "count = df_directors.value_counts('id')\n",
    "df_directors_clean = df_directors.drop_duplicates()\n"
   ],
   "outputs": [],
   "metadata": {}
  },
  {
   "cell_type": "markdown",
   "source": [
    "# Join & Filter Movie & Ratings Data"
   ],
   "metadata": {}
  },
  {
   "cell_type": "code",
   "execution_count": 8,
   "source": [
    "\"\"\" Q1: \n",
    "Join three Dataframes: df, df_directors_clean, and df_countries with an inner join.\n",
    "Store the joined DataFrames in df.\n",
    "\"\"\"\n",
    "\n",
    "# your code here\n",
    "df = pd.merge(left=df, right=df_directors_clean, how='inner', left_on='director_id', right_on='id')\n",
    "df = pd.merge(left=df, right=df_countries, how='inner', left_on='country_id', right_on='id')\n",
    "\n",
    "# After the join, the resulting Dataframe should have 12 columns.\n"
   ],
   "outputs": [],
   "metadata": {}
  },
  {
   "cell_type": "code",
   "execution_count": 9,
   "source": [
    "\"\"\" Q2: \n",
    "Save the first ten rows of movie titles(only movie titles column) in a variable called first10, then print it.\n",
    "\"\"\"\n",
    "\n",
    "# your code here\n",
    "first10 = df['movie_title'].head(10)\n",
    "print(first10)\n"
   ],
   "outputs": [
    {
     "output_type": "stream",
     "name": "stdout",
     "text": [
      "0    The Shawshank RedemptionÊ\n",
      "1              The Green MileÊ\n",
      "2               The GodfatherÊ\n",
      "3      The Godfather: Part IIÊ\n",
      "4              Apocalypse NowÊ\n",
      "5             The Dark KnightÊ\n",
      "6                   InceptionÊ\n",
      "7                InterstellarÊ\n",
      "8                     MementoÊ\n",
      "9                The PrestigeÊ\n",
      "Name: movie_title, dtype: object\n"
     ]
    }
   ],
   "metadata": {}
  },
  {
   "cell_type": "code",
   "execution_count": 10,
   "source": [
    "\"\"\" Q3: \n",
    "There's an extra character at the end of each movie title. \n",
    "\n",
    "Remove it from the data using str.replace.\n",
    "https://pandas.pydata.org/docs/reference/api/pandas.Series.str.replace.html\n",
    "\n",
    "And print the first ten rows of movie titles again. \n",
    "\"\"\"\n",
    "\n",
    "# your code here\n",
    "df['movie_title'] = df['movie_title'].str.replace('Ê', '', regex=False)\n",
    "print(df['movie_title'].head(10))\n"
   ],
   "outputs": [
    {
     "output_type": "stream",
     "name": "stdout",
     "text": [
      "0    The Shawshank Redemption\n",
      "1              The Green Mile\n",
      "2               The Godfather\n",
      "3      The Godfather: Part II\n",
      "4              Apocalypse Now\n",
      "5             The Dark Knight\n",
      "6                   Inception\n",
      "7                Interstellar\n",
      "8                     Memento\n",
      "9                The Prestige\n",
      "Name: movie_title, dtype: object\n"
     ]
    }
   ],
   "metadata": {}
  },
  {
   "cell_type": "code",
   "execution_count": 11,
   "source": [
    "\"\"\" Q4:\n",
    "Who is the director with the most movies? First get the number of movies per \"director_name\".\n",
    "\n",
    "   To get the number of records per \"director_name\", use the value_counts method.\n",
    "   https://pandas.pydata.org/docs/reference/api/pandas.DataFrame.value_counts.html\n",
    "   \n",
    "Then extract the director with the highest count and save in a variable called \"director_with_most\".\n",
    "\"\"\"\n",
    "\n",
    "# your code here\n",
    "director_with_most = df['director_name'].value_counts().head(1).index.tolist()[0]\n"
   ],
   "outputs": [],
   "metadata": {}
  },
  {
   "cell_type": "code",
   "execution_count": 12,
   "source": [
    "\"\"\"Q5:\n",
    "Save all of this director's movies and their imdb_score in a variable called all_movies_ratings, then print this variable.\n",
    "(The director with the most movies you got from the last question.)\n",
    "\"\"\"\n",
    "\n",
    "# your code here\n",
    "all_movies_ratings = df[['movie_title', 'imdb_score']][df['director_name'] == director_with_most]\n",
    "print(all_movies_ratings)\n"
   ],
   "outputs": [
    {
     "output_type": "stream",
     "name": "stdout",
     "text": [
      "              movie_title  imdb_score\n",
      "5         The Dark Knight         9.0\n",
      "6               Inception         8.8\n",
      "7            Interstellar         8.6\n",
      "8                 Memento         8.5\n",
      "9            The Prestige         8.5\n",
      "10  The Dark Knight Rises         8.5\n",
      "11          Batman Begins         8.3\n"
     ]
    }
   ],
   "metadata": {}
  },
  {
   "cell_type": "markdown",
   "source": [
    "# Summarize Movie & Ratings Data"
   ],
   "metadata": {}
  },
  {
   "cell_type": "code",
   "execution_count": 13,
   "source": [
    "\"\"\" Q1: \n",
    "Get the summary statistics for imdb_score and gross, then use the describe() function to summarize this visually. Save the\n",
    "result in a variable called score_gross_description and print it.\n",
    "\"\"\"\n",
    "\n",
    "# your code here\n",
    "score_gross_description = df[['imdb_score', 'gross']].describe()\n",
    "print(score_gross_description)\n"
   ],
   "outputs": [
    {
     "output_type": "stream",
     "name": "stdout",
     "text": [
      "       imdb_score         gross\n",
      "count  178.000000  1.780000e+02\n",
      "mean     8.294382  1.030402e+08\n",
      "std      0.266960  1.242549e+08\n",
      "min      8.000000  8.060000e+03\n",
      "25%      8.100000  1.318510e+07\n",
      "50%      8.200000  5.194371e+07\n",
      "75%      8.475000  1.522436e+08\n",
      "max      9.300000  6.232795e+08\n"
     ]
    }
   ],
   "metadata": {}
  },
  {
   "cell_type": "code",
   "execution_count": 14,
   "source": [
    "\"\"\"Q2:\n",
    "What is the average rating of the director Christopher Nolan's movies? Save this value in a variable called nolan_mean and \n",
    "print.\n",
    "\"\"\"\n",
    "\n",
    "# your code here\n",
    "nolan_mean = all_movies_ratings['imdb_score'].mean()\n",
    "print(nolan_mean)\n"
   ],
   "outputs": [
    {
     "output_type": "stream",
     "name": "stdout",
     "text": [
      "8.6\n"
     ]
    }
   ],
   "metadata": {}
  },
  {
   "cell_type": "code",
   "execution_count": 15,
   "source": [
    "\"\"\"Q3:\n",
    "Select the non-USA movies made after 1960 by Hayao Miyazaki.\n",
    "Save the result in a DataFrame called 'miyazaki', then print it.\n",
    "\n",
    "Here are the steps:\n",
    "1. Query the data ('df' DataFrame) based on the following conditions:\n",
    "- Non-USA movies (country_id != 1)\n",
    "- Movies made after 1960 (title_year > 1960)\n",
    "- Movies made by director Hayao Miyazaki (director_id == 46)\n",
    "2. Save the filtered data in a DataFrame called 'miyazaki' and print it\n",
    "\"\"\"\n",
    "\n",
    "# your code here\n",
    "miyazaki = df.query('country_id != 1 & title_year > 1960 & director_id == 46')\n",
    "print(miyazaki)\n"
   ],
   "outputs": [
    {
     "output_type": "stream",
     "name": "stdout",
     "text": [
      "              movie_title  director_id  country_id content_rating  title_year  \\\n",
      "128         Spirited Away         46.0         4.0             PG      2001.0   \n",
      "129     Princess Mononoke         46.0         4.0          PG-13      1997.0   \n",
      "130  Howl's Moving Castle         46.0         4.0             PG      2004.0   \n",
      "\n",
      "     imdb_score       gross  duration  id_x   director_name  id_y country  \n",
      "128         8.6  10049886.0     125.0  46.0  Hayao Miyazaki   4.0   Japan  \n",
      "129         8.4   2298191.0     134.0  46.0  Hayao Miyazaki   4.0   Japan  \n",
      "130         8.2   4710455.0     119.0  46.0  Hayao Miyazaki   4.0   Japan  \n"
     ]
    }
   ],
   "metadata": {}
  },
  {
   "cell_type": "code",
   "execution_count": 16,
   "source": [
    "\"\"\"Q4: \n",
    "Create a Pivot Table that shows the median rating for each director, grouped by their respective countries. Name your variable\n",
    "'pivot_agg'\n",
    "\"\"\"\n",
    "\n",
    "# your code here\n",
    "pivot_agg = df[['director_name', 'imdb_score', 'country']].groupby(['country', 'director_name']).mean().reset_index()\n"
   ],
   "outputs": [],
   "metadata": {}
  },
  {
   "cell_type": "code",
   "execution_count": 17,
   "source": [
    "\"\"\"Q5:\n",
    "How long did the movie Gladiator aim to keep your attention? Save the series with this information\n",
    "in a variable called 'gladiator_duration', then print it.\n",
    "\"\"\"\n",
    "\n",
    "# your code here\n",
    "gladiator_duration = df['duration'][df['movie_title'] == 'Gladiator']\n",
    "print(gladiator_duration)\n"
   ],
   "outputs": [
    {
     "output_type": "stream",
     "name": "stdout",
     "text": [
      "49    171.0\n",
      "Name: duration, dtype: float64\n"
     ]
    }
   ],
   "metadata": {}
  },
  {
   "cell_type": "markdown",
   "source": [
    "# Visualize Movie & Ratings Data"
   ],
   "metadata": {}
  },
  {
   "cell_type": "code",
   "execution_count": 18,
   "source": [
    "\"\"\"Q1: \n",
    "Is how much a movie makes indicative of how good it is?\n",
    "Make a simple scatter plot comparing gross to imdb_score for movies during or after 2000 (title_year >= 2000) \n",
    "and before 2000 (title_year < 2000).\n",
    "It may be useful to scale the x axis demarking gross. (Hint: Divide the gross amount by 1,000,000.)\n",
    "Remember to put a legend indicating which color corresponds to which years.\n",
    "What is your verdict?\n",
    "\n",
    "Save your plot in a variable called plt1, and your dataframes in variables called df_after_2000 and df_before_2000\n",
    "\"\"\"\n",
    "\n",
    "import matplotlib.pyplot as plt1\n",
    "\n",
    "\n",
    "# your code here\n",
    "df_after_2000 = df[['gross', 'imdb_score']][df['title_year'] >= 2000]\n",
    "df_before_2000 = df[['gross', 'imdb_score']][df['title_year'] < 2000]\n",
    "\n",
    "plt1.scatter(df_before_2000['gross']/1000000, df_before_2000['imdb_score'], s=5, c='blue', label='before 2000')\n",
    "plt1.scatter(df_after_2000['gross']/1000000, df_after_2000['imdb_score'], s=5, c='red', label='after 2000')\n",
    "\n",
    "plt1.xlabel('gross')\n",
    "plt1.ylabel('imdb score')\n",
    "plt1.legend()\n",
    "plt1.title('comparing gross to imdb score for movies during or after 2000')\n",
    "plt1.show()\n"
   ],
   "outputs": [
    {
     "output_type": "display_data",
     "data": {
      "image/png": "[encoded data removed]",
      "text/plain": [
       "<Figure size 432x288 with 1 Axes>"
      ]
     },
     "metadata": {
      "needs_background": "light"
     }
    }
   ],
   "metadata": {}
  },
  {
   "cell_type": "code",
   "execution_count": 19,
   "source": [
    "\"\"\"Q2: \n",
    "Using numpy and pyplot, make a side-by-side histogram that shows the score distribution(x-axis) vs. count(y-axis) of R-Rated movies and PG-13 ones.\n",
    "Describe your plot.\n",
    "\n",
    "Save your plot in a variable called plt2, and your dataframes in variables called df_R and df_PG13\n",
    "\"\"\"\n",
    "\n",
    "import matplotlib.pyplot as plt2\n",
    "\n",
    "\n",
    "# your code here\n",
    "df_R = df[['imdb_score']][df['content_rating'] == 'R']\n",
    "df_PG13 = df[['imdb_score']][df['content_rating'] == 'PG-13']\n",
    "\n",
    "plt2.hist([df_R, df_PG13], label=['R', 'PG-13'])\n",
    "\n",
    "plt2.xlabel('imdb score')\n",
    "plt2.ylabel('count')\n",
    "plt2.legend()\n",
    "plt2.title('the score distribution vs. count of R-Rated movies and PG-13 ones')\n",
    "plt2.show()\n"
   ],
   "outputs": [
    {
     "output_type": "stream",
     "name": "stderr",
     "text": [
      "/home/ichenghsia/.local/lib/python3.7/site-packages/numpy/core/fromnumeric.py:3208: VisibleDeprecationWarning: Creating an ndarray from ragged nested sequences (which is a list-or-tuple of lists-or-tuples-or ndarrays with different lengths or shapes) is deprecated. If you meant to do this, you must specify 'dtype=object' when creating the ndarray.\n",
      "  return asarray(a).size\n",
      "/usr/lib/python3/dist-packages/matplotlib/cbook/__init__.py:1395: VisibleDeprecationWarning: Creating an ndarray from ragged nested sequences (which is a list-or-tuple of lists-or-tuples-or ndarrays with different lengths or shapes) is deprecated. If you meant to do this, you must specify 'dtype=object' when creating the ndarray.\n",
      "  X = np.atleast_1d(X.T if isinstance(X, np.ndarray) else np.asarray(X))\n"
     ]
    },
    {
     "output_type": "display_data",
     "data": {
      "image/png": "[encoded data removed]",
      "text/plain": [
       "<Figure size 432x288 with 1 Axes>"
      ]
     },
     "metadata": {
      "needs_background": "light"
     }
    }
   ],
   "metadata": {}
  }
 ],
 "metadata": {
  "kernelspec": {
   "name": "python3",
   "display_name": "Python 3.7.3 64-bit"
  },
  "language_info": {
   "codemirror_mode": {
    "name": "ipython",
    "version": 3
   },
   "file_extension": ".py",
   "mimetype": "text/x-python",
   "name": "python",
   "nbconvert_exporter": "python",
   "pygments_lexer": "ipython3",
   "version": "3.7.3"
  },
  "interpreter": {
   "hash": "31f2aee4e71d21fbe5cf8b01ff0e069b9275f58929596ceb00d14d90e3e16cd6"
  }
 },
 "nbformat": 4,
 "nbformat_minor": 4
}