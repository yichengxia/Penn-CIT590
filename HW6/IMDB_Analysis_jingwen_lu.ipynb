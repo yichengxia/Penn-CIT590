{
 "cells": [
  {
   "cell_type": "markdown",
   "metadata": {},
   "source": [
    "# IMDb Analysis"
   ]
  },
  {
   "cell_type": "markdown",
   "metadata": {},
   "source": [
    "#### In this assignment, you will work on movie data from IMDB.\n",
    "- The data includes movies and ratings from the IMDB website\n",
    "- Data File(s): imdb.xlsx\n",
    "\n",
    "#### Data file contains 3 sheets:\n",
    "- “imdb”: contains records of movies and ratings scraped from IMDB website\n",
    "- “countries”: contains the country (of origin) names\n",
    "- “directors”: contains the director names"
   ]
  },
  {
   "cell_type": "markdown",
   "metadata": {},
   "source": [
    "# Load, Inspect, & Query Movie & Ratings Data"
   ]
  },
  {
   "cell_type": "code",
   "execution_count": 19,
   "metadata": {},
   "outputs": [],
   "source": [
    "\"\"\" Q1: \n",
    "Load and read the 'imdb.xlsx' file. Read the 'imdb' sheet into a DataFrame, df.\n",
    "\"\"\"\n",
    "\n",
    "import pandas as pd\n",
    "\n",
    "# read the individual sheets in Excel file\n",
    "\n",
    "xls = pd.ExcelFile('imdb.xlsx')\n",
    "\n",
    "# read the designated sheet into a DataFrame\n",
    "\n",
    "df = xls.parse('imdb')\n"
   ]
  },
  {
   "cell_type": "code",
   "execution_count": 20,
   "metadata": {},
   "outputs": [
    {
     "name": "stdout",
     "output_type": "stream",
     "text": [
      "(178, 8)\n"
     ]
    }
   ],
   "source": [
    "\"\"\" Q2: \n",
    "Store the dimensions of the DataFrame as a tuple in a variable called 'shape' and print it.\n",
    "\n",
    "Hint: A tuple is made up of comma separated values inside parenthesis.  e.g. (1, 2)\n",
    "\"\"\"\n",
    "\n",
    "# built-in function shape gives the size(rows, columns) of the DataFrame\n",
    "\n",
    "shape = df.shape\n",
    "\n",
    "print(shape)\n"
   ]
  },
  {
   "cell_type": "code",
   "execution_count": 21,
   "metadata": {},
   "outputs": [
    {
     "name": "stdout",
     "output_type": "stream",
     "text": [
      "Index(['movie_title', 'director_id', 'country_id', 'content_rating',\n",
      "       'title_year', 'imdb_score', 'gross', 'duration'],\n",
      "      dtype='object')\n",
      "movie_title        object\n",
      "director_id       float64\n",
      "country_id        float64\n",
      "content_rating     object\n",
      "title_year        float64\n",
      "imdb_score        float64\n",
      "gross             float64\n",
      "duration          float64\n",
      "dtype: object\n"
     ]
    }
   ],
   "source": [
    "\"\"\" Q3: \n",
    "Store the column titles and the types of data in variables named 'columns' and 'dtypes', then print them.\n",
    "\"\"\"\n",
    "\n",
    "# built-in function columns return column headers in each column as Index type\n",
    "\n",
    "columns = df.columns\n",
    "\n",
    "print(columns)\n",
    "\n",
    "\n",
    "# built-in function dtypes return type of data stored in each column as Series type\n",
    "\n",
    "dtypes = df.dtypes\n",
    "\n",
    "print(dtypes)\n"
   ]
  },
  {
   "cell_type": "code",
   "execution_count": 22,
   "metadata": {},
   "outputs": [],
   "source": [
    "\"\"\" Q4: \n",
    "Extract the first 10 rows of data; store them in a variable called first10\n",
    "\"\"\"\n",
    "\n",
    "# built-in function head() returns the designated rows of data, also as a DataFrame\n",
    "\n",
    "first10 = df.head(10)\n"
   ]
  },
  {
   "cell_type": "code",
   "execution_count": 23,
   "metadata": {},
   "outputs": [],
   "source": [
    "\"\"\" Q5: \n",
    "Extract the first 5 rows of data; store them in a variable called first5\n",
    "\"\"\"\n",
    "\n",
    "# built-in function head() returns the designated rows of data, also as a DataFrame\n",
    "\n",
    "first5 = df.head(5)\n",
    "\n"
   ]
  },
  {
   "cell_type": "code",
   "execution_count": 24,
   "metadata": {},
   "outputs": [],
   "source": [
    "\"\"\" Q6: \n",
    "Import the \"directors\" and \"countries\" sheets into their own DataFrames, df_directors and df_countries.\n",
    "\"\"\"\n",
    "\n",
    "# read the designated sheet into a DataFrame\n",
    "\n",
    "df_directors = xls.parse('directors')\n",
    "\n",
    "df_countries = xls.parse('countries')\n"
   ]
  },
  {
   "cell_type": "code",
   "execution_count": 25,
   "metadata": {},
   "outputs": [],
   "source": [
    "\"\"\" Q7: \n",
    "Check the \"directors\" sheet\n",
    "1. Count how many records there are based on the \"id\" column. \n",
    "\n",
    "   To get the number of records per \"id\", use the value_counts method.\n",
    "   https://pandas.pydata.org/docs/reference/api/pandas.DataFrame.value_counts.html\n",
    "   Store the result in a variable named count.\n",
    "   \n",
    "2. Remove the duplicates from the directors dataframe and store the result in a variable called df_directors_clean.\n",
    "\"\"\"\n",
    "\n",
    "# built-in function value_counts() returns the counts of unique rows in the DataFrame as a Series type\n",
    "\n",
    "count = df_directors.value_counts(subset = 'id', sort = False)\n",
    "\n",
    "# built-in function drop_duplicates() gets rid of the duplicates based on all columns\n",
    "\n",
    "df_directors_clean = df_directors.drop_duplicates()\n"
   ]
  },
  {
   "cell_type": "markdown",
   "metadata": {},
   "source": [
    "# Join & Filter Movie & Ratings Data"
   ]
  },
  {
   "cell_type": "code",
   "execution_count": 26,
   "metadata": {},
   "outputs": [
    {
     "data": {
      "text/plain": [
       "(178, 12)"
      ]
     },
     "execution_count": 26,
     "metadata": {},
     "output_type": "execute_result"
    }
   ],
   "source": [
    "\"\"\" Q1: \n",
    "Join three Dataframes: df, df_directors_clean, and df_countries with an inner join.\n",
    "Store the joined DataFrames in df.\n",
    "\"\"\"\n",
    "\n",
    "# join the keys 'director_id' in df with keys 'id' in df_directors_clean\n",
    "\n",
    "df = pd.merge(left=df, right=df_directors_clean, how='inner', left_on='director_id', right_on='id')\n",
    "\n",
    "# join the keys 'country_id' in df with keys 'id' in df_countries\n",
    "\n",
    "df = pd.merge(left=df, right=df_countries, how='inner', left_on='country_id', right_on='id')\n",
    "\n",
    "\n",
    "# After the join, the resulting Dataframe should have 12 columns.\n",
    "df.shape\n"
   ]
  },
  {
   "cell_type": "code",
   "execution_count": 27,
   "metadata": {},
   "outputs": [
    {
     "name": "stdout",
     "output_type": "stream",
     "text": [
      "0    The Shawshank RedemptionÊ\n",
      "1              The Green MileÊ\n",
      "2               The GodfatherÊ\n",
      "3      The Godfather: Part IIÊ\n",
      "4              Apocalypse NowÊ\n",
      "5             The Dark KnightÊ\n",
      "6                   InceptionÊ\n",
      "7                InterstellarÊ\n",
      "8                     MementoÊ\n",
      "9                The PrestigeÊ\n",
      "Name: movie_title, dtype: object\n"
     ]
    }
   ],
   "source": [
    "\"\"\" Q2: \n",
    "Save the first ten rows of movie titles(only movie titles column) in a variable called first10, then print it.\n",
    "\"\"\"\n",
    "\n",
    "# use the built-in function head() to call first 10 rows\n",
    "# specify attribute 'movie_title' to get data for this column\n",
    "\n",
    "first10 = df['movie_title'].head(10)\n",
    "\n",
    "print(first10)\n"
   ]
  },
  {
   "cell_type": "code",
   "execution_count": 28,
   "metadata": {},
   "outputs": [
    {
     "name": "stdout",
     "output_type": "stream",
     "text": [
      "0    The Shawshank Redemption\n",
      "1              The Green Mile\n",
      "2               The Godfather\n",
      "3      The Godfather: Part II\n",
      "4              Apocalypse Now\n",
      "5             The Dark Knight\n",
      "6                   Inception\n",
      "7                Interstellar\n",
      "8                     Memento\n",
      "9                The Prestige\n",
      "Name: movie_title, dtype: object\n"
     ]
    }
   ],
   "source": [
    "\"\"\" Q3: \n",
    "There's an extra character at the end of each movie title. \n",
    "\n",
    "Remove it from the data using str.replace.\n",
    "https://pandas.pydata.org/docs/reference/api/pandas.Series.str.replace.html\n",
    "\n",
    "And print the first ten rows of movie titles again. \n",
    "\"\"\"\n",
    "\n",
    "# call built-in function Series.str.replace to replace 'Ê' at the end of each movie title with an empty string ''\n",
    "\n",
    "df['movie_title'] = df['movie_title'].str.replace('Ê', '')\n",
    "\n",
    "print(first10)\n"
   ]
  },
  {
   "cell_type": "code",
   "execution_count": 29,
   "metadata": {},
   "outputs": [
    {
     "name": "stdout",
     "output_type": "stream",
     "text": [
      "Christopher Nolan\n"
     ]
    }
   ],
   "source": [
    "\"\"\" Q4:\n",
    "Who is the director with the most movies? First get the number of movies per \"director_name\".\n",
    "\n",
    "   To get the number of records per \"director_name\", use the value_counts method.\n",
    "   https://pandas.pydata.org/docs/reference/api/pandas.DataFrame.value_counts.html\n",
    "   \n",
    "Then extract the director with the highest count and save in a variable called \"director_with_most\".\n",
    "\"\"\"\n",
    "\n",
    "# use the built-in function .value_counts to get the number of records per 'director_name'\n",
    "# the returned series is saved under 'director_name_and_count_series'\n",
    "\n",
    "director_name_and_count_series = df.value_counts(subset = 'director_name', sort=True)\n",
    "\n",
    "\n",
    "# call the first item in 'director_name_and_count_series', since the counts are sorted\n",
    "\n",
    "director_with_most = director_name_and_count_series.index[0]\n",
    "print(director_with_most)\n"
   ]
  },
  {
   "cell_type": "code",
   "execution_count": 30,
   "metadata": {},
   "outputs": [
    {
     "name": "stdout",
     "output_type": "stream",
     "text": [
      "              movie_title  imdb_score\n",
      "5         The Dark Knight         9.0\n",
      "6               Inception         8.8\n",
      "7            Interstellar         8.6\n",
      "8                 Memento         8.5\n",
      "9            The Prestige         8.5\n",
      "10  The Dark Knight Rises         8.5\n",
      "11          Batman Begins         8.3\n"
     ]
    }
   ],
   "source": [
    "\"\"\"Q5:\n",
    "Save all of this director's movies and their imdb_score in a variable called all_movies_ratings, \n",
    "then print this variable.\n",
    "(The director with the most movies you got from the last question.)\n",
    "\"\"\"\n",
    "\n",
    "# creates a Series with True/False values on whether the 'director_name' is 'Christopher Nolan' in DataFrame df\n",
    "\n",
    "movies_T_or_F_series = df['director_name'] == 'Christopher Nolan'\n",
    "\n",
    "# filters df based on the T/F values in the movies_T_or_F_series,\n",
    "# then stores the columns 'movie_title' and 'imdb_score' in a new DataFrame 'all_movies_ratings'\n",
    "\n",
    "attributes = ['movie_title', 'imdb_score'] # stores the list of attributes in a list\n",
    "\n",
    "all_movies_ratings = df[movies_T_or_F_series][attributes]\n",
    "\n",
    "print(all_movies_ratings)\n"
   ]
  },
  {
   "cell_type": "markdown",
   "metadata": {},
   "source": [
    "# Summarize Movie & Ratings Data"
   ]
  },
  {
   "cell_type": "code",
   "execution_count": 31,
   "metadata": {},
   "outputs": [
    {
     "name": "stdout",
     "output_type": "stream",
     "text": [
      "       imdb_score         gross\n",
      "count  178.000000  1.780000e+02\n",
      "mean     8.294382  1.030402e+08\n",
      "std      0.266960  1.242549e+08\n",
      "min      8.000000  8.060000e+03\n",
      "25%      8.100000  1.318510e+07\n",
      "50%      8.200000  5.194371e+07\n",
      "75%      8.475000  1.522436e+08\n",
      "max      9.300000  6.232795e+08\n"
     ]
    }
   ],
   "source": [
    "\"\"\" Q1: \n",
    "Get the summary statistics for imdb_score and gross, then use the describe() function to summarize this visually. \n",
    "Save the result in a variable called score_gross_description and print it.\n",
    "\"\"\"\n",
    "\n",
    "# call the 'imdb_score' and 'gross' columns from df,\n",
    "# then call built-in function .describe() to summarize visually\n",
    "\n",
    "score_gross_description = df[['imdb_score', 'gross']].describe()\n",
    "\n",
    "print(score_gross_description)\n"
   ]
  },
  {
   "cell_type": "code",
   "execution_count": 32,
   "metadata": {},
   "outputs": [
    {
     "name": "stdout",
     "output_type": "stream",
     "text": [
      "8.6\n"
     ]
    }
   ],
   "source": [
    "\"\"\"Q2:\n",
    "What is the average rating of the director Christopher Nolan's movies? \n",
    "Save this value in a variable called nolan_mean and print.\n",
    "\"\"\"\n",
    "\n",
    "# create a series of T/F values of whether movie_title in df is Christopher Nolan\n",
    "\n",
    "nolan_movies_T_or_F = df['director_name'] == 'Christopher Nolan'\n",
    "\n",
    "# filter df with nolan_movies_T_or_F, then stores the new DataFrame in nolan_movies\n",
    "\n",
    "nolan_movies = df[nolan_movies_T_or_F]\n",
    "\n",
    "\n",
    "# gets average rating of column 'imdb_score' in the DataFrame 'nolan_movies'\n",
    "\n",
    "nolan_mean = nolan_movies['imdb_score'].mean()\n",
    "\n",
    "print(nolan_mean)\n"
   ]
  },
  {
   "cell_type": "code",
   "execution_count": 33,
   "metadata": {},
   "outputs": [
    {
     "name": "stdout",
     "output_type": "stream",
     "text": [
      "              movie_title  director_id  country_id content_rating  title_year  \\\n",
      "128         Spirited Away         46.0         4.0             PG      2001.0   \n",
      "129     Princess Mononoke         46.0         4.0          PG-13      1997.0   \n",
      "130  Howl's Moving Castle         46.0         4.0             PG      2004.0   \n",
      "\n",
      "     imdb_score       gross  duration  id_x   director_name  id_y country  \n",
      "128         8.6  10049886.0     125.0  46.0  Hayao Miyazaki   4.0   Japan  \n",
      "129         8.4   2298191.0     134.0  46.0  Hayao Miyazaki   4.0   Japan  \n",
      "130         8.2   4710455.0     119.0  46.0  Hayao Miyazaki   4.0   Japan  \n"
     ]
    }
   ],
   "source": [
    "\"\"\"Q3:\n",
    "Select the non-USA movies made after 1960 by Hayao Miyazaki.\n",
    "Save the result in a DataFrame called 'miyazaki', then print it.\n",
    "\n",
    "Here are the steps:\n",
    "1. Query the data ('df' DataFrame) based on the following conditions:\n",
    "- Non-USA movies (country_id != 1)\n",
    "- Movies made after 1960 (title_year > 1960)\n",
    "- Movies made by director Hayao Miyazaki (director_id == 46)\n",
    "2. Save the filtered data in a DataFrame called 'miyazaki' and print it\n",
    "\"\"\"\n",
    "\n",
    "# creates 3 series with T/F values to filter df on country_id, title_year, and director_id\n",
    "\n",
    "non_USA = df['country_id'] != 1\n",
    "after_1960 = df['title_year'] > 1960\n",
    "Hayao_Miyazaki = df['director_id'] == 46\n",
    "\n",
    "# filters df on the 3 T/F series defined above\n",
    "# then stores the new DataFrame in 'miyazaki'\n",
    "\n",
    "miyazaki = df[non_USA & after_1960 & Hayao_Miyazaki]\n",
    "\n",
    "print(miyazaki)\n"
   ]
  },
  {
   "cell_type": "code",
   "execution_count": 34,
   "metadata": {},
   "outputs": [],
   "source": [
    "\"\"\"Q4: \n",
    "Create a Pivot Table that shows the median rating for each director, grouped by their respective countries. \n",
    "Name your variable 'pivot_agg'\n",
    "\"\"\"\n",
    "\n",
    "import numpy as np\n",
    "\n",
    "# pivot df on columns 'country' and 'director_name', for the median value of  'imdb_score'\n",
    "\n",
    "pivot_agg = pd.pivot_table(df, index=['country', 'director_name'], values=['imdb_score'], aggfunc=[np.median])\n"
   ]
  },
  {
   "cell_type": "code",
   "execution_count": 35,
   "metadata": {},
   "outputs": [
    {
     "name": "stdout",
     "output_type": "stream",
     "text": [
      "49    171.0\n",
      "Name: duration, dtype: float64\n"
     ]
    }
   ],
   "source": [
    "\"\"\"Q5:\n",
    "How long did the movie Gladiator aim to keep your attention? Save the series with this information\n",
    "in a variable called 'gladiator_duration', then print it.\n",
    "\"\"\"\n",
    "\n",
    "# creates a T/F series based on if the 'movie_title' in df is 'Gladiator'\n",
    "\n",
    "gladiator_T_or_F = df['movie_title'] == 'Gladiator'\n",
    "\n",
    "# filter df with gladiator_T_or_F\n",
    "# then stores the new DataFrame in gladiator\n",
    "\n",
    "gladiator = df[gladiator_T_or_F]\n",
    "\n",
    "\n",
    "# get the duration value as a series\n",
    "\n",
    "gladiator_duration = gladiator['duration']\n",
    "\n",
    "print(gladiator_duration)\n"
   ]
  },
  {
   "cell_type": "markdown",
   "metadata": {},
   "source": [
    "# Visualize Movie & Ratings Data"
   ]
  },
  {
   "cell_type": "code",
   "execution_count": 36,
   "metadata": {},
   "outputs": [
    {
     "ename": "ModuleNotFoundError",
     "evalue": "No module named 'matplotlib'",
     "output_type": "error",
     "traceback": [
      "\u001b[0;31m---------------------------------------------------------------------------\u001b[0m",
      "\u001b[0;31mModuleNotFoundError\u001b[0m                       Traceback (most recent call last)",
      "\u001b[0;32m/tmp/ipykernel_3516/2667751938.py\u001b[0m in \u001b[0;36m<module>\u001b[0;34m\u001b[0m\n\u001b[1;32m     10\u001b[0m \"\"\"\n\u001b[1;32m     11\u001b[0m \u001b[0;34m\u001b[0m\u001b[0m\n\u001b[0;32m---> 12\u001b[0;31m \u001b[0;32mimport\u001b[0m \u001b[0mmatplotlib\u001b[0m\u001b[0;34m.\u001b[0m\u001b[0mpyplot\u001b[0m \u001b[0;32mas\u001b[0m \u001b[0mplt1\u001b[0m\u001b[0;34m\u001b[0m\u001b[0;34m\u001b[0m\u001b[0m\n\u001b[0m\u001b[1;32m     13\u001b[0m \u001b[0;34m\u001b[0m\u001b[0m\n\u001b[1;32m     14\u001b[0m \u001b[0;34m\u001b[0m\u001b[0m\n",
      "\u001b[0;31mModuleNotFoundError\u001b[0m: No module named 'matplotlib'"
     ]
    }
   ],
   "source": [
    "\"\"\"Q1: \n",
    "Is how much a movie makes indicative of how good it is?\n",
    "Make a simple scatter plot comparing gross to imdb_score for movies during or after 2000 (title_year >= 2000) \n",
    "and before 2000 (title_year < 2000).\n",
    "It may be useful to scale the x axis demarking gross. (Hint: Divide the gross amount by 1,000,000.)\n",
    "Remember to put a legend indicating which color corresponds to which years.\n",
    "What is your verdict?\n",
    "\n",
    "Save your plot in a variable called plt1, and your dataframes in variables called df_after_2000 and df_before_2000\n",
    "\"\"\"\n",
    "\n",
    "import matplotlib.pyplot as plt1\n",
    "\n",
    "\n",
    "# filter df on title_year >= 2000, then stores new DataFrame in 'df_after_2000'\n",
    "\n",
    "df_after_2000 = df[df['title_year'] >= 2000]\n",
    "\n",
    "# scale the gross by 1/1,000,000 and store the values in var 'scaled_gross_after_2000'\n",
    "\n",
    "scaled_gross_after_2000 = df_after_2000['gross'] / 1000000\n",
    "\n",
    "\n",
    "# filter df on title_year < 2000, then stores new DataFrame in 'df_before_2000'\n",
    "\n",
    "df_before_2000 = df[df['title_year'] < 2000]\n",
    "\n",
    "# scale the gross by 1/1,000,000 and store the values in var 'scaled_gross_before_2000'\n",
    "\n",
    "scaled_gross_before_2000 = df_before_2000['gross'] / 1000000\n",
    "\n",
    "\n",
    "# call plt1 to generate a scatter plot with the 2 DataFrames define above\n",
    "plt1.scatter(scaled_gross_after_2000, df_after_2000['imdb_score'], \n",
    "           marker='o', color='r', alpha=0.7, s = 124, label=['df_after_2000'])\n",
    "\n",
    "plt1.scatter(scaled_gross_before_2000, df_before_2000['imdb_score'], \n",
    "           marker='^', color='b', alpha=0.7, s = 124, label=['df_before_2000'])\n",
    "\n",
    "plt1.xlabel('gross in million $')\n",
    "\n",
    "plt1.ylabel('imdb_score')\n",
    "\n",
    "plt1.legend(loc='best')\n",
    "\n",
    "plt1.title('Comparison of gross vs. imdb_score for movies during or after 2000')\n",
    "\n",
    "plt1.show()"
   ]
  },
  {
   "cell_type": "code",
   "execution_count": null,
   "metadata": {},
   "outputs": [
    {
     "data": {
      "image/png": "[encoded data removed]",
      "text/plain": [
       "<Figure size 432x288 with 1 Axes>"
      ]
     },
     "metadata": {
      "needs_background": "light"
     },
     "output_type": "display_data"
    }
   ],
   "source": [
    "\"\"\"Q2: \n",
    "Using numpy and pyplot, make a side-by-side histogram that shows the score distribution(x-axis) vs. count(y-axis)\n",
    "of R-Rated movies and PG-13 ones.\n",
    "Describe your plot.\n",
    "\n",
    "Save your plot in a variable called plt2, and your dataframes in variables called df_R and df_PG13\n",
    "\"\"\"\n",
    "\n",
    "import matplotlib.pyplot as plt2\n",
    "\n",
    "\n",
    "# filter df on 'content_rating' as 'R', then stores the new DataFrame in df_R\n",
    "\n",
    "df_R = df[df['content_rating'] == 'R']\n",
    "\n",
    "# creates a imdb_score series for df_R\n",
    "\n",
    "series_R = df_R['imdb_score']\n",
    "\n",
    "# filter df on 'content_rating' as 'PG-13', then stores the new DataFrame in df_PG-13\n",
    "\n",
    "df_PG13 = df[df['content_rating'] == 'PG-13']\n",
    "\n",
    "# creates a imdb_score series for df_PG13\n",
    "\n",
    "series_PG13 = df_PG13['imdb_score']\n",
    "\n",
    "\n",
    "# call plt2 to plot a histogram of the 2 series define above\n",
    "\n",
    "plt2.hist([series_R, series_PG13], alpha=0.7, color=['red', 'blue'], label=['R-Rated', 'PG-13'], bins='auto')\n",
    "\n",
    "plt2.xlabel('score distribution')\n",
    "\n",
    "plt2.ylabel('count')\n",
    "\n",
    "plt2.legend(loc='best')\n",
    "\n",
    "plt2.title('Score distribution for R-Rated and PG-13 movies')\n",
    "\n",
    "plt2.show()"
   ]
  },
  {
   "cell_type": "code",
   "execution_count": null,
   "metadata": {},
   "outputs": [],
   "source": []
  }
 ],
 "metadata": {
  "interpreter": {
   "hash": "31f2aee4e71d21fbe5cf8b01ff0e069b9275f58929596ceb00d14d90e3e16cd6"
  },
  "kernelspec": {
   "display_name": "Python 3.7.3 64-bit",
   "name": "python3"
  },
  "language_info": {
   "codemirror_mode": {
    "name": "ipython",
    "version": 3
   },
   "file_extension": ".py",
   "mimetype": "text/x-python",
   "name": "python",
   "nbconvert_exporter": "python",
   "pygments_lexer": "ipython3",
   "version": "3.7.3"
  }
 },
 "nbformat": 4,
 "nbformat_minor": 4
}
