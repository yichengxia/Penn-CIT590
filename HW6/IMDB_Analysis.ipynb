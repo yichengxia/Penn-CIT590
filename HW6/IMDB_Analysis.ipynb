{
  "nbformat": 4,
  "nbformat_minor": 0,
  "metadata": {
    "interpreter": {
      "hash": "31f2aee4e71d21fbe5cf8b01ff0e069b9275f58929596ceb00d14d90e3e16cd6"
    },
    "kernelspec": {
      "display_name": "Python 3.7.3 64-bit",
      "name": "python3"
    },
    "language_info": {
      "codemirror_mode": {
        "name": "ipython",
        "version": 3
      },
      "file_extension": ".py",
      "mimetype": "text/x-python",
      "name": "python",
      "nbconvert_exporter": "python",
      "pygments_lexer": "ipython3",
      "version": "3.7.3"
    },
    "colab": {
      "name": "IMDB_Analysis.ipynb",
      "provenance": []
    }
  },
  "cells": [
    {
      "cell_type": "markdown",
      "metadata": {
        "id": "i0cDJWJA6U9N"
      },
      "source": [
        "# IMDb Analysis"
      ]
    },
    {
      "cell_type": "markdown",
      "metadata": {
        "id": "R2FdmHLe6U9U"
      },
      "source": [
        "#### In this assignment, you will work on movie data from IMDB.\n",
        "- The data includes movies and ratings from the IMDB website\n",
        "- Data File(s): imdb.xlsx\n",
        "\n",
        "#### Data file contains 3 sheets:\n",
        "- “imdb”: contains records of movies and ratings scraped from IMDB website\n",
        "- “countries”: contains the country (of origin) names\n",
        "- “directors”: contains the director names"
      ]
    },
    {
      "cell_type": "markdown",
      "metadata": {
        "id": "NNEwGDmr6U9W"
      },
      "source": [
        "# Load, Inspect, & Query Movie & Ratings Data"
      ]
    },
    {
      "cell_type": "code",
      "metadata": {
        "id": "n5jOBt8H6U9W"
      },
      "source": [
        "\"\"\" Q1: \n",
        "Load and read the 'imdb.xlsx' file. Read the 'imdb' sheet into a DataFrame, df.\n",
        "\"\"\"\n",
        "\n",
        "import pandas as pd\n",
        "\n",
        "# your code here\n",
        "df = pd.read_excel('imdb.xlsx')\n"
      ],
      "execution_count": 21,
      "outputs": []
    },
    {
      "cell_type": "code",
      "metadata": {
        "colab": {
          "base_uri": "https://localhost:8080/"
        },
        "id": "-NEKE_EB6U9Y",
        "outputId": "919e7f82-3e94-4093-e7d3-bcbaf16eb12e"
      },
      "source": [
        "\"\"\" Q2: \n",
        "Store the dimensions of the DataFrame as a tuple in a variable called 'shape' and print it.\n",
        "\n",
        "Hint: A tuple is made up of comma separated values inside parenthesis.  e.g. (1, 2)\n",
        "\"\"\"\n",
        "\n",
        "# your code here\n",
        "shape = df.shape\n",
        "print(shape)\n"
      ],
      "execution_count": 22,
      "outputs": [
        {
          "output_type": "stream",
          "name": "stdout",
          "text": [
            "(178, 8)\n"
          ]
        }
      ]
    },
    {
      "cell_type": "code",
      "metadata": {
        "colab": {
          "base_uri": "https://localhost:8080/"
        },
        "id": "CLOzwyTu6U9Z",
        "outputId": "a22549bd-92c0-42b2-9e31-c0a928969e0a"
      },
      "source": [
        "\"\"\" Q3: \n",
        "Store the column titles and the types of data in variables named 'columns' and 'dtypes', then print them.\n",
        "\"\"\"\n",
        "\n",
        "# your code here\n",
        "columns = df.columns\n",
        "dtypes = df.dtypes\n",
        "print(columns)\n",
        "print(dtypes)\n"
      ],
      "execution_count": 23,
      "outputs": [
        {
          "output_type": "stream",
          "name": "stdout",
          "text": [
            "Index(['movie_title', 'director_id', 'country_id', 'content_rating',\n",
            "       'title_year', 'imdb_score', 'gross', 'duration'],\n",
            "      dtype='object')\n",
            "movie_title        object\n",
            "director_id         int64\n",
            "country_id          int64\n",
            "content_rating     object\n",
            "title_year          int64\n",
            "imdb_score        float64\n",
            "gross               int64\n",
            "duration            int64\n",
            "dtype: object\n"
          ]
        }
      ]
    },
    {
      "cell_type": "code",
      "metadata": {
        "id": "FC3FOhCL6U9a"
      },
      "source": [
        "\"\"\" Q4: \n",
        "Extract the first 10 rows of data; store them in a variable called first10\n",
        "\"\"\"\n",
        "\n",
        "# your code here\n",
        "first10 = df.head(10)\n"
      ],
      "execution_count": 24,
      "outputs": []
    },
    {
      "cell_type": "code",
      "metadata": {
        "id": "QG0MXsOC6U9a"
      },
      "source": [
        "\"\"\" Q5: \n",
        "Extract the first 5 rows of data; store them in a variable called first5\n",
        "\"\"\"\n",
        "\n",
        "# your code here\n",
        "first5 = df.head(5)\n"
      ],
      "execution_count": 25,
      "outputs": []
    },
    {
      "cell_type": "code",
      "metadata": {
        "id": "ez7NDfqf6U9b"
      },
      "source": [
        "\"\"\" Q6: \n",
        "Import the \"directors\" and \"countries\" sheets into their own DataFrames, df_directors and df_countries.\n",
        "\"\"\"\n",
        "\n",
        "# your code here\n",
        "df_directors = pd.read_excel('imdb.xlsx', sheet_name=2)\n",
        "df_countries = pd.read_excel('imdb.xlsx', sheet_name=1)\n"
      ],
      "execution_count": 26,
      "outputs": []
    },
    {
      "cell_type": "code",
      "metadata": {
        "id": "CS0XUTCB6U9c"
      },
      "source": [
        "\"\"\" Q7: \n",
        "Check the \"directors\" sheet\n",
        "1. Count how many records there are based on the \"id\" column. \n",
        "\n",
        "   To get the number of records per \"id\", use the value_counts method.\n",
        "   https://pandas.pydata.org/docs/reference/api/pandas.DataFrame.value_counts.html\n",
        "   Store the result in a variable named count.\n",
        "   \n",
        "2. Remove the duplicates from the directors dataframe and store the result in a variable called df_directors_clean.\n",
        "\"\"\"\n",
        "\n",
        "# your code here\n",
        "count = df_directors.value_counts('id')\n",
        "df_directors_clean = df_directors.drop_duplicates()\n"
      ],
      "execution_count": 27,
      "outputs": []
    },
    {
      "cell_type": "markdown",
      "metadata": {
        "id": "6Ky7dpZD6U9c"
      },
      "source": [
        "# Join & Filter Movie & Ratings Data"
      ]
    },
    {
      "cell_type": "code",
      "metadata": {
        "id": "XmWfqn7p6U9c"
      },
      "source": [
        "\"\"\" Q1: \n",
        "Join three Dataframes: df, df_directors_clean, and df_countries with an inner join.\n",
        "Store the joined DataFrames in df.\n",
        "\"\"\"\n",
        "\n",
        "# your code here\n",
        "df = pd.merge(left=df, right=df_directors_clean, how='inner', left_on='director_id', right_on='id')\n",
        "df = pd.merge(left=df, right=df_countries, how='inner', left_on='country_id', right_on='id')\n",
        "\n",
        "# After the join, the resulting Dataframe should have 12 columns.\n"
      ],
      "execution_count": 28,
      "outputs": []
    },
    {
      "cell_type": "code",
      "metadata": {
        "colab": {
          "base_uri": "https://localhost:8080/"
        },
        "id": "fgmYrxZE6U9d",
        "outputId": "af878fd1-2334-4027-8494-c06296f1512d"
      },
      "source": [
        "\"\"\" Q2: \n",
        "Save the first ten rows of movie titles(only movie titles column) in a variable called first10, then print it.\n",
        "\"\"\"\n",
        "\n",
        "# your code here\n",
        "first10 = df['movie_title'].head(10)\n",
        "print(first10)\n"
      ],
      "execution_count": 29,
      "outputs": [
        {
          "output_type": "stream",
          "name": "stdout",
          "text": [
            "0    The Shawshank RedemptionÊ\n",
            "1              The Green MileÊ\n",
            "2               The GodfatherÊ\n",
            "3      The Godfather: Part IIÊ\n",
            "4              Apocalypse NowÊ\n",
            "5             The Dark KnightÊ\n",
            "6                   InceptionÊ\n",
            "7                InterstellarÊ\n",
            "8                     MementoÊ\n",
            "9                The PrestigeÊ\n",
            "Name: movie_title, dtype: object\n"
          ]
        }
      ]
    },
    {
      "cell_type": "code",
      "metadata": {
        "colab": {
          "base_uri": "https://localhost:8080/"
        },
        "id": "oXNZL8JB6U9e",
        "outputId": "019dcff2-9611-4ee8-df16-ecef79703dd2"
      },
      "source": [
        "\"\"\" Q3: \n",
        "There's an extra character at the end of each movie title. \n",
        "\n",
        "Remove it from the data using str.replace.\n",
        "https://pandas.pydata.org/docs/reference/api/pandas.Series.str.replace.html\n",
        "\n",
        "And print the first ten rows of movie titles again. \n",
        "\"\"\"\n",
        "\n",
        "# your code here\n",
        "df['movie_title'] = df['movie_title'].str.replace('Ê', '', regex=False)\n",
        "print(df['movie_title'].head(10))\n"
      ],
      "execution_count": 30,
      "outputs": [
        {
          "output_type": "stream",
          "name": "stdout",
          "text": [
            "0    The Shawshank Redemption\n",
            "1              The Green Mile\n",
            "2               The Godfather\n",
            "3      The Godfather: Part II\n",
            "4              Apocalypse Now\n",
            "5             The Dark Knight\n",
            "6                   Inception\n",
            "7                Interstellar\n",
            "8                     Memento\n",
            "9                The Prestige\n",
            "Name: movie_title, dtype: object\n"
          ]
        }
      ]
    },
    {
      "cell_type": "code",
      "metadata": {
        "id": "mWEPCPm86U9f"
      },
      "source": [
        "\"\"\" Q4:\n",
        "Who is the director with the most movies? First get the number of movies per \"director_name\".\n",
        "\n",
        "   To get the number of records per \"director_name\", use the value_counts method.\n",
        "   https://pandas.pydata.org/docs/reference/api/pandas.DataFrame.value_counts.html\n",
        "   \n",
        "Then extract the director with the highest count and save in a variable called \"director_with_most\".\n",
        "\"\"\"\n",
        "\n",
        "# your code here\n",
        "director_with_most = df['director_name'].value_counts().head(1).index.tolist()[0]\n"
      ],
      "execution_count": 31,
      "outputs": []
    },
    {
      "cell_type": "code",
      "metadata": {
        "colab": {
          "base_uri": "https://localhost:8080/"
        },
        "id": "Ns41GUfl6U9f",
        "outputId": "f9c6103f-93e6-4e8a-9daf-cb1252b4478a"
      },
      "source": [
        "\"\"\"Q5:\n",
        "Save all of this director's movies and their imdb_score in a variable called all_movies_ratings, then print this variable.\n",
        "(The director with the most movies you got from the last question.)\n",
        "\"\"\"\n",
        "\n",
        "# your code here\n",
        "all_movies_ratings = df[['movie_title', 'imdb_score']][df['director_name'] == director_with_most]\n",
        "print(all_movies_ratings)\n"
      ],
      "execution_count": 32,
      "outputs": [
        {
          "output_type": "stream",
          "name": "stdout",
          "text": [
            "              movie_title  imdb_score\n",
            "5         The Dark Knight         9.0\n",
            "6               Inception         8.8\n",
            "7            Interstellar         8.6\n",
            "8                 Memento         8.5\n",
            "9            The Prestige         8.5\n",
            "10  The Dark Knight Rises         8.5\n",
            "11          Batman Begins         8.3\n"
          ]
        }
      ]
    },
    {
      "cell_type": "markdown",
      "metadata": {
        "id": "b3Nz-jQa6U9g"
      },
      "source": [
        "# Summarize Movie & Ratings Data"
      ]
    },
    {
      "cell_type": "code",
      "metadata": {
        "colab": {
          "base_uri": "https://localhost:8080/"
        },
        "id": "IT5tG5UU6U9g",
        "outputId": "349a713c-f5b5-4db0-d550-c5f535d7d25d"
      },
      "source": [
        "\"\"\" Q1: \n",
        "Get the summary statistics for imdb_score and gross, then use the describe() function to summarize this visually. Save the\n",
        "result in a variable called score_gross_description and print it.\n",
        "\"\"\"\n",
        "\n",
        "# your code here\n",
        "score_gross_description = df[['imdb_score', 'gross']].describe()\n",
        "print(score_gross_description)\n"
      ],
      "execution_count": 33,
      "outputs": [
        {
          "output_type": "stream",
          "name": "stdout",
          "text": [
            "       imdb_score         gross\n",
            "count  178.000000  1.780000e+02\n",
            "mean     8.294382  1.030402e+08\n",
            "std      0.266960  1.242549e+08\n",
            "min      8.000000  8.060000e+03\n",
            "25%      8.100000  1.318510e+07\n",
            "50%      8.200000  5.194371e+07\n",
            "75%      8.475000  1.522436e+08\n",
            "max      9.300000  6.232795e+08\n"
          ]
        }
      ]
    },
    {
      "cell_type": "code",
      "metadata": {
        "colab": {
          "base_uri": "https://localhost:8080/"
        },
        "id": "zlwO05Pi6U9h",
        "outputId": "fdf24817-92b3-4642-db8b-03da4847566c"
      },
      "source": [
        "\"\"\"Q2:\n",
        "What is the average rating of the director Christopher Nolan's movies? Save this value in a variable called nolan_mean and \n",
        "print.\n",
        "\"\"\"\n",
        "\n",
        "# your code here\n",
        "nolan_mean = all_movies_ratings['imdb_score'].mean()\n",
        "print(nolan_mean)\n"
      ],
      "execution_count": 34,
      "outputs": [
        {
          "output_type": "stream",
          "name": "stdout",
          "text": [
            "8.6\n"
          ]
        }
      ]
    },
    {
      "cell_type": "code",
      "metadata": {
        "colab": {
          "base_uri": "https://localhost:8080/"
        },
        "id": "OK1phmN06U9h",
        "outputId": "b92c185a-5b35-4e69-b25b-a4a8cca2357a"
      },
      "source": [
        "\"\"\"Q3:\n",
        "Select the non-USA movies made after 1960 by Hayao Miyazaki.\n",
        "Save the result in a DataFrame called 'miyazaki', then print it.\n",
        "\n",
        "Here are the steps:\n",
        "1. Query the data ('df' DataFrame) based on the following conditions:\n",
        "- Non-USA movies (country_id != 1)\n",
        "- Movies made after 1960 (title_year > 1960)\n",
        "- Movies made by director Hayao Miyazaki (director_id == 46)\n",
        "2. Save the filtered data in a DataFrame called 'miyazaki' and print it\n",
        "\"\"\"\n",
        "\n",
        "# your code here\n",
        "miyazaki = df.query('country_id != 1 & title_year > 1960 & director_id == 46')\n",
        "print(miyazaki)\n"
      ],
      "execution_count": 35,
      "outputs": [
        {
          "output_type": "stream",
          "name": "stdout",
          "text": [
            "              movie_title  director_id  ...  id_y country\n",
            "128         Spirited Away           46  ...     4   Japan\n",
            "129     Princess Mononoke           46  ...     4   Japan\n",
            "130  Howl's Moving Castle           46  ...     4   Japan\n",
            "\n",
            "[3 rows x 12 columns]\n"
          ]
        }
      ]
    },
    {
      "cell_type": "code",
      "metadata": {
        "id": "Lzf6KmDJ6U9h"
      },
      "source": [
        "\"\"\"Q4: \n",
        "Create a Pivot Table that shows the median rating for each director, grouped by their respective countries. Name your variable\n",
        "'pivot_agg'\n",
        "\"\"\"\n",
        "\n",
        "# your code here\n",
        "pivot_agg = df[['director_name', 'country', 'imdb_score']].groupby(by=['country', 'director_name']).median().rename(columns={'imdb_score':'median_score'}).reset_index()\n"
      ],
      "execution_count": 36,
      "outputs": []
    },
    {
      "cell_type": "code",
      "metadata": {
        "colab": {
          "base_uri": "https://localhost:8080/"
        },
        "id": "M31iGHNz6U9i",
        "outputId": "ba728123-256c-4080-95f1-7ead8020cdbf"
      },
      "source": [
        "\"\"\"Q5:\n",
        "How long did the movie Gladiator aim to keep your attention? Save the series with this information\n",
        "in a variable called 'gladiator_duration', then print it.\n",
        "\"\"\"\n",
        "\n",
        "# your code here\n",
        "gladiator_duration = df['duration'][df['movie_title'] == 'Gladiator']\n",
        "print(gladiator_duration)\n"
      ],
      "execution_count": 37,
      "outputs": [
        {
          "output_type": "stream",
          "name": "stdout",
          "text": [
            "49    171\n",
            "Name: duration, dtype: int64\n"
          ]
        }
      ]
    },
    {
      "cell_type": "markdown",
      "metadata": {
        "id": "qaWc2cki6U9i"
      },
      "source": [
        "# Visualize Movie & Ratings Data"
      ]
    },
    {
      "cell_type": "code",
      "metadata": {
        "colab": {
          "base_uri": "https://localhost:8080/",
          "height": 295
        },
        "id": "D76edsbL6U9i",
        "outputId": "b5d83d75-f371-4077-c552-7ac258a87ce8"
      },
      "source": [
        "\"\"\"Q1: \n",
        "Is how much a movie makes indicative of how good it is?\n",
        "Make a simple scatter plot comparing gross to imdb_score for movies during or after 2000 (title_year >= 2000) \n",
        "and before 2000 (title_year < 2000).\n",
        "It may be useful to scale the x axis demarking gross. (Hint: Divide the gross amount by 1,000,000.)\n",
        "Remember to put a legend indicating which color corresponds to which years.\n",
        "What is your verdict?\n",
        "\n",
        "Save your plot in a variable called plt1, and your dataframes in variables called df_after_2000 and df_before_2000\n",
        "\"\"\"\n",
        "\n",
        "import matplotlib.pyplot as plt1\n",
        "\n",
        "\n",
        "# your code here\n",
        "df_after_2000 = df[['gross', 'imdb_score']][df['title_year'] >= 2000]\n",
        "df_before_2000 = df[['gross', 'imdb_score']][df['title_year'] < 2000]\n",
        "\n",
        "plt1.scatter(df_before_2000['gross']/1000000, df_before_2000['imdb_score'], s=5, c='blue', label='before 2000')\n",
        "plt1.scatter(df_after_2000['gross']/1000000, df_after_2000['imdb_score'], s=5, c='red', label='after 2000')\n",
        "\n",
        "plt1.xlabel('gross')\n",
        "plt1.ylabel('imdb score')\n",
        "plt1.legend()\n",
        "plt1.title('comparing gross to imdb score for movies during or after 2000')\n",
        "plt1.show()\n"
      ],
      "execution_count": 38,
      "outputs": [
        {
          "output_type": "display_data",
          "data": {
            "image/png": "[encoded data removed]",
            "text/plain": [
              "<Figure size 432x288 with 1 Axes>"
            ]
          },
          "metadata": {
            "needs_background": "light"
          }
        }
      ]
    },
    {
      "cell_type": "code",
      "metadata": {
        "colab": {
          "base_uri": "https://localhost:8080/",
          "height": 351
        },
        "id": "yKqUcUqr6U9j",
        "outputId": "a8d55c6c-2f57-4f25-b1c7-ea643aec3f50"
      },
      "source": [
        "\"\"\"Q2: \n",
        "Using numpy and pyplot, make a side-by-side histogram that shows the score distribution(x-axis) vs. count(y-axis) of R-Rated movies and PG-13 ones.\n",
        "Describe your plot.\n",
        "\n",
        "Save your plot in a variable called plt2, and your dataframes in variables called df_R and df_PG13\n",
        "\"\"\"\n",
        "\n",
        "import matplotlib.pyplot as plt2\n",
        "\n",
        "\n",
        "# your code here\n",
        "df_R = df[['imdb_score']][df['content_rating'] == 'R']\n",
        "df_PG13 = df[['imdb_score']][df['content_rating'] == 'PG-13']\n",
        "\n",
        "plt2.hist([df_R, df_PG13], label=['R', 'PG-13'])\n",
        "\n",
        "plt2.xlabel('imdb score')\n",
        "plt2.ylabel('count')\n",
        "plt2.legend()\n",
        "plt2.title('the score distribution vs. count of R-Rated movies and PG-13 ones')\n",
        "plt2.show()\n"
      ],
      "execution_count": 39,
      "outputs": [
        {
          "output_type": "stream",
          "name": "stderr",
          "text": [
            "/usr/local/lib/python3.7/dist-packages/numpy/core/_asarray.py:83: VisibleDeprecationWarning: Creating an ndarray from ragged nested sequences (which is a list-or-tuple of lists-or-tuples-or ndarrays with different lengths or shapes) is deprecated. If you meant to do this, you must specify 'dtype=object' when creating the ndarray\n",
            "  return array(a, dtype, copy=False, order=order)\n"
          ]
        },
        {
          "output_type": "display_data",
          "data": {
            "image/png": "[encoded data removed]",
            "text/plain": [
              "<Figure size 432x288 with 1 Axes>"
            ]
          },
          "metadata": {
            "needs_background": "light"
          }
        }
      ]
    }
  ]
}